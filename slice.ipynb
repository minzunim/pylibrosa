{
 "cells": [
  {
   "cell_type": "code",
   "execution_count": 11,
   "id": "78378f2f-fa20-44a6-a5e5-8e68b243a102",
   "metadata": {},
   "outputs": [],
   "source": [
    "import librosa\n",
    "import soundfile as sf\n",
    "import matplotlib.pyplot as plt\n",
    "from dtw import dtw\n",
    "from numpy.linalg import norm\n",
    "from gtts import gTTS"
   ]
  },
  {
   "cell_type": "code",
   "execution_count": null,
   "id": "045d3b68-16cc-49a9-bc39-7a6a239dea41",
   "metadata": {},
   "outputs": [],
   "source": [
    "path1 = 'mp3/sentence1.mp3'"
   ]
  },
  {
   "cell_type": "code",
   "execution_count": 8,
   "id": "5053979a-1897-44c5-b20e-86b86f0db1e8",
   "metadata": {},
   "outputs": [],
   "source": [
    "# 5초까지만 오디오 파일 자르기\n",
    "y, sr = librosa.load(path1, sr=22050)\n",
    "duration = 5.0\n",
    "end_sample = int(sr*duration)\n",
    "y_short = y[:end_sample]\n",
    "sf.write('sentence1_5s.mp3', y_short, sr)"
   ]
  },
  {
   "cell_type": "code",
   "execution_count": 12,
   "id": "940e744f-8d86-4412-9c95-302b58cf95d1",
   "metadata": {},
   "outputs": [],
   "source": [
    "# tts 파일 생성\n",
    "text = \"Do you mind if I stop by the post office? I have to mail this\"\n",
    "tts = gTTS(text=text, lang='en')\n",
    "tts.save(\"sentence1_tts.mp3\")"
   ]
  },
  {
   "cell_type": "code",
   "execution_count": null,
   "id": "724ee7bd-427c-411e-8d28-2d6ed92144ce",
   "metadata": {},
   "outputs": [],
   "source": []
  }
 ],
 "metadata": {
  "kernelspec": {
   "display_name": "pyminju",
   "language": "python",
   "name": "pylibrosa"
  },
  "language_info": {
   "codemirror_mode": {
    "name": "ipython",
    "version": 3
   },
   "file_extension": ".py",
   "mimetype": "text/x-python",
   "name": "python",
   "nbconvert_exporter": "python",
   "pygments_lexer": "ipython3",
   "version": "3.12.7"
  }
 },
 "nbformat": 4,
 "nbformat_minor": 5
}
